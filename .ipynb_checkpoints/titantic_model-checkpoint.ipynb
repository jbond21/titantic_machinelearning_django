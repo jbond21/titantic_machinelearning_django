{
 "cells": [
  {
   "cell_type": "code",
   "execution_count": 4,
   "metadata": {},
   "outputs": [],
   "source": [
    "import pandas as pd\n",
    "\n",
    "\n",
    "df = pd.read_csv('train.csv')\n",
    "\n",
    "\n",
    "\n",
    "df.head(5)\n",
    "\n",
    "df_test = pd.read_csv('test.csv')\n",
    "\n",
    "def get_title(name):\n",
    "    if '.' in name:\n",
    "        return name.split(',')[1].split('.')[0].strip()\n",
    "    else:\n",
    "        return 'title not in name'\n",
    "    \n",
    "titles = sorted(set([x for x in df.Name.map(lambda x: get_title(x))]))\n",
    "\n",
    "def shorter_title(x):\n",
    "    title = x['Title']\n",
    "    if title in ['Capt', 'Col', 'Major']:\n",
    "        return 'Officer'\n",
    "    elif title in ['the Countess', 'Don', 'Sir', 'Jonkheer']:\n",
    "        return 'Royalty'\n",
    "    elif title in  ['Mme', 'Lady']:\n",
    "        return 'Mrs'\n",
    "    elif title in ['Mlle', 'Ms']:\n",
    "        return 'Miss'\n",
    "    else:\n",
    "        return title\n",
    "\n",
    "df['Title']= df['Name'].map(lambda x: get_title(x)) \n",
    "\n",
    "\n",
    "df['Title']= df.apply(shorter_title, axis=1)\n",
    "\n",
    "df['Age'].fillna(df['Age'].median(), inplace=True)\n",
    "df['Fare'].fillna(df['Fare'].median(), inplace=True)\n",
    "df['Embarked'].fillna('S', inplace=True)\n",
    "df.drop('Cabin', axis=1, inplace=True)\n",
    "df.drop('Ticket', axis=1, inplace=True)\n",
    "df.drop('Name', axis=1, inplace=True)\n",
    "df.Sex.replace(('male', 'female'), (0,1), inplace=True)\n",
    "df.Embarked.replace(('S', 'C', 'Q'), (0,1,2), inplace=True)\n",
    "df.Title.replace(('Mr', 'Miss', 'Mrs', 'Master', 'Dr', 'Rev', 'Officer', 'Royalty'), (0,1,2,3,4,5,6,7), inplace=True)\n",
    "\n",
    "from sklearn.model_selection import train_test_split\n",
    "x = df.drop(['Survived', 'PassengerId'], axis=1)\n",
    "y = df['Survived']\n",
    "x_train, x_val, y_train, y_val = train_test_split(x, y, test_size = 0.1)\n",
    "\n",
    "import pickle\n",
    "from sklearn.ensemble import RandomForestClassifier\n",
    "from sklearn.metrics import accuracy_score\n",
    "\n",
    "randomforest = RandomForestClassifier()\n",
    "randomforest.fit(x_train, y_train)\n",
    "y_pred= randomforest.predict(x_val)\n",
    "acc_randomforest = round(accuracy_score(y_pred, y_val)*100,2)\n",
    "\n",
    "pickle.dump(randomforest, open('titantic_model.sav', 'wb'))"
   ]
  },
  {
   "cell_type": "code",
   "execution_count": 5,
   "metadata": {},
   "outputs": [],
   "source": [
    "def prediction_model(pclass,sex,age,sibsp,parch,fare,embarked,title):\n",
    "    import pickle\n",
    "    x = [[pclass,sex,age,sibsp,parch,fare,embarked,title]]\n",
    "    randomforest = pickle.load(open('titantic_model.sav', 'rb'))\n",
    "    prediction = randomforest.predict(x)\n",
    "    print(prediction)"
   ]
  },
  {
   "cell_type": "code",
   "execution_count": 6,
   "metadata": {},
   "outputs": [
    {
     "name": "stdout",
     "output_type": "stream",
     "text": [
      "[1]\n"
     ]
    }
   ],
   "source": [
    "prediction_model(1,1,1,1,1,1,1,1)"
   ]
  },
  {
   "cell_type": "code",
   "execution_count": null,
   "metadata": {},
   "outputs": [],
   "source": []
  }
 ],
 "metadata": {
  "kernelspec": {
   "display_name": "Python 3",
   "language": "python",
   "name": "python3"
  },
  "language_info": {
   "codemirror_mode": {
    "name": "ipython",
    "version": 3
   },
   "file_extension": ".py",
   "mimetype": "text/x-python",
   "name": "python",
   "nbconvert_exporter": "python",
   "pygments_lexer": "ipython3",
   "version": "3.8.2"
  }
 },
 "nbformat": 4,
 "nbformat_minor": 4
}
